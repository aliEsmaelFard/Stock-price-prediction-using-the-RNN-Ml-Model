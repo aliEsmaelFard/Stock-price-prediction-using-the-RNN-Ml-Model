{
  "nbformat": 4,
  "nbformat_minor": 0,
  "metadata": {
    "colab": {
      "provenance": [],
      "authorship_tag": "ABX9TyMSzcfDDf3un/8swP+eMl2c",
      "include_colab_link": true
    },
    "kernelspec": {
      "name": "python3",
      "display_name": "Python 3"
    },
    "language_info": {
      "name": "python"
    }
  },
  "cells": [
    {
      "cell_type": "markdown",
      "metadata": {
        "id": "view-in-github",
        "colab_type": "text"
      },
      "source": [
        "<a href=\"https://colab.research.google.com/github/aliEsmaelFard/aliEsmaelFard-Stock-price-prediction-using-the-RNN-Ml-Model/blob/main/RnnGoogleStockPredict.ipynb\" target=\"_parent\"><img src=\"https://colab.research.google.com/assets/colab-badge.svg\" alt=\"Open In Colab\"/></a>"
      ]
    },
    {
      "cell_type": "code",
      "execution_count": 149,
      "metadata": {
        "id": "6L22vVDMXHCu"
      },
      "outputs": [],
      "source": [
        "import numpy as np\n",
        "import pandas as pd\n",
        "import matplotlib.pyplot as plt"
      ]
    },
    {
      "cell_type": "code",
      "source": [
        "dataset_train = pd.read_csv(\"/content/Google_Stock_Price_Train.csv\")"
      ],
      "metadata": {
        "id": "mTqaOo4idii0"
      },
      "execution_count": 150,
      "outputs": []
    },
    {
      "cell_type": "code",
      "source": [
        "dataset_train"
      ],
      "metadata": {
        "colab": {
          "base_uri": "https://localhost:8080/",
          "height": 423
        },
        "id": "xK-3NDQ4gHVV",
        "outputId": "31d76eb4-30d5-4991-8b42-e363375d19c3"
      },
      "execution_count": 151,
      "outputs": [
        {
          "output_type": "execute_result",
          "data": {
            "text/plain": [
              "            Date    Open    High     Low   Close      Volume\n",
              "0       1/3/2012  325.25  332.83  324.97  663.59   7,380,500\n",
              "1       1/4/2012  331.27  333.87  329.08  666.45   5,749,400\n",
              "2       1/5/2012  329.83  330.75  326.89  657.21   6,590,300\n",
              "3       1/6/2012  328.34  328.77  323.68  648.24   5,405,900\n",
              "4       1/9/2012  322.04  322.29  309.46  620.76  11,688,800\n",
              "...          ...     ...     ...     ...     ...         ...\n",
              "1253  12/23/2016  790.90  792.74  787.28  789.91     623,400\n",
              "1254  12/27/2016  790.68  797.86  787.66  791.55     789,100\n",
              "1255  12/28/2016  793.70  794.23  783.20  785.05   1,153,800\n",
              "1256  12/29/2016  783.33  785.93  778.92  782.79     744,300\n",
              "1257  12/30/2016  782.75  782.78  770.41  771.82   1,770,000\n",
              "\n",
              "[1258 rows x 6 columns]"
            ],
            "text/html": [
              "\n",
              "  <div id=\"df-54e8ad62-fe9c-4879-8994-f553b4bab2b3\" class=\"colab-df-container\">\n",
              "    <div>\n",
              "<style scoped>\n",
              "    .dataframe tbody tr th:only-of-type {\n",
              "        vertical-align: middle;\n",
              "    }\n",
              "\n",
              "    .dataframe tbody tr th {\n",
              "        vertical-align: top;\n",
              "    }\n",
              "\n",
              "    .dataframe thead th {\n",
              "        text-align: right;\n",
              "    }\n",
              "</style>\n",
              "<table border=\"1\" class=\"dataframe\">\n",
              "  <thead>\n",
              "    <tr style=\"text-align: right;\">\n",
              "      <th></th>\n",
              "      <th>Date</th>\n",
              "      <th>Open</th>\n",
              "      <th>High</th>\n",
              "      <th>Low</th>\n",
              "      <th>Close</th>\n",
              "      <th>Volume</th>\n",
              "    </tr>\n",
              "  </thead>\n",
              "  <tbody>\n",
              "    <tr>\n",
              "      <th>0</th>\n",
              "      <td>1/3/2012</td>\n",
              "      <td>325.25</td>\n",
              "      <td>332.83</td>\n",
              "      <td>324.97</td>\n",
              "      <td>663.59</td>\n",
              "      <td>7,380,500</td>\n",
              "    </tr>\n",
              "    <tr>\n",
              "      <th>1</th>\n",
              "      <td>1/4/2012</td>\n",
              "      <td>331.27</td>\n",
              "      <td>333.87</td>\n",
              "      <td>329.08</td>\n",
              "      <td>666.45</td>\n",
              "      <td>5,749,400</td>\n",
              "    </tr>\n",
              "    <tr>\n",
              "      <th>2</th>\n",
              "      <td>1/5/2012</td>\n",
              "      <td>329.83</td>\n",
              "      <td>330.75</td>\n",
              "      <td>326.89</td>\n",
              "      <td>657.21</td>\n",
              "      <td>6,590,300</td>\n",
              "    </tr>\n",
              "    <tr>\n",
              "      <th>3</th>\n",
              "      <td>1/6/2012</td>\n",
              "      <td>328.34</td>\n",
              "      <td>328.77</td>\n",
              "      <td>323.68</td>\n",
              "      <td>648.24</td>\n",
              "      <td>5,405,900</td>\n",
              "    </tr>\n",
              "    <tr>\n",
              "      <th>4</th>\n",
              "      <td>1/9/2012</td>\n",
              "      <td>322.04</td>\n",
              "      <td>322.29</td>\n",
              "      <td>309.46</td>\n",
              "      <td>620.76</td>\n",
              "      <td>11,688,800</td>\n",
              "    </tr>\n",
              "    <tr>\n",
              "      <th>...</th>\n",
              "      <td>...</td>\n",
              "      <td>...</td>\n",
              "      <td>...</td>\n",
              "      <td>...</td>\n",
              "      <td>...</td>\n",
              "      <td>...</td>\n",
              "    </tr>\n",
              "    <tr>\n",
              "      <th>1253</th>\n",
              "      <td>12/23/2016</td>\n",
              "      <td>790.90</td>\n",
              "      <td>792.74</td>\n",
              "      <td>787.28</td>\n",
              "      <td>789.91</td>\n",
              "      <td>623,400</td>\n",
              "    </tr>\n",
              "    <tr>\n",
              "      <th>1254</th>\n",
              "      <td>12/27/2016</td>\n",
              "      <td>790.68</td>\n",
              "      <td>797.86</td>\n",
              "      <td>787.66</td>\n",
              "      <td>791.55</td>\n",
              "      <td>789,100</td>\n",
              "    </tr>\n",
              "    <tr>\n",
              "      <th>1255</th>\n",
              "      <td>12/28/2016</td>\n",
              "      <td>793.70</td>\n",
              "      <td>794.23</td>\n",
              "      <td>783.20</td>\n",
              "      <td>785.05</td>\n",
              "      <td>1,153,800</td>\n",
              "    </tr>\n",
              "    <tr>\n",
              "      <th>1256</th>\n",
              "      <td>12/29/2016</td>\n",
              "      <td>783.33</td>\n",
              "      <td>785.93</td>\n",
              "      <td>778.92</td>\n",
              "      <td>782.79</td>\n",
              "      <td>744,300</td>\n",
              "    </tr>\n",
              "    <tr>\n",
              "      <th>1257</th>\n",
              "      <td>12/30/2016</td>\n",
              "      <td>782.75</td>\n",
              "      <td>782.78</td>\n",
              "      <td>770.41</td>\n",
              "      <td>771.82</td>\n",
              "      <td>1,770,000</td>\n",
              "    </tr>\n",
              "  </tbody>\n",
              "</table>\n",
              "<p>1258 rows × 6 columns</p>\n",
              "</div>\n",
              "    <div class=\"colab-df-buttons\">\n",
              "\n",
              "  <div class=\"colab-df-container\">\n",
              "    <button class=\"colab-df-convert\" onclick=\"convertToInteractive('df-54e8ad62-fe9c-4879-8994-f553b4bab2b3')\"\n",
              "            title=\"Convert this dataframe to an interactive table.\"\n",
              "            style=\"display:none;\">\n",
              "\n",
              "  <svg xmlns=\"http://www.w3.org/2000/svg\" height=\"24px\" viewBox=\"0 -960 960 960\">\n",
              "    <path d=\"M120-120v-720h720v720H120Zm60-500h600v-160H180v160Zm220 220h160v-160H400v160Zm0 220h160v-160H400v160ZM180-400h160v-160H180v160Zm440 0h160v-160H620v160ZM180-180h160v-160H180v160Zm440 0h160v-160H620v160Z\"/>\n",
              "  </svg>\n",
              "    </button>\n",
              "\n",
              "  <style>\n",
              "    .colab-df-container {\n",
              "      display:flex;\n",
              "      gap: 12px;\n",
              "    }\n",
              "\n",
              "    .colab-df-convert {\n",
              "      background-color: #E8F0FE;\n",
              "      border: none;\n",
              "      border-radius: 50%;\n",
              "      cursor: pointer;\n",
              "      display: none;\n",
              "      fill: #1967D2;\n",
              "      height: 32px;\n",
              "      padding: 0 0 0 0;\n",
              "      width: 32px;\n",
              "    }\n",
              "\n",
              "    .colab-df-convert:hover {\n",
              "      background-color: #E2EBFA;\n",
              "      box-shadow: 0px 1px 2px rgba(60, 64, 67, 0.3), 0px 1px 3px 1px rgba(60, 64, 67, 0.15);\n",
              "      fill: #174EA6;\n",
              "    }\n",
              "\n",
              "    .colab-df-buttons div {\n",
              "      margin-bottom: 4px;\n",
              "    }\n",
              "\n",
              "    [theme=dark] .colab-df-convert {\n",
              "      background-color: #3B4455;\n",
              "      fill: #D2E3FC;\n",
              "    }\n",
              "\n",
              "    [theme=dark] .colab-df-convert:hover {\n",
              "      background-color: #434B5C;\n",
              "      box-shadow: 0px 1px 3px 1px rgba(0, 0, 0, 0.15);\n",
              "      filter: drop-shadow(0px 1px 2px rgba(0, 0, 0, 0.3));\n",
              "      fill: #FFFFFF;\n",
              "    }\n",
              "  </style>\n",
              "\n",
              "    <script>\n",
              "      const buttonEl =\n",
              "        document.querySelector('#df-54e8ad62-fe9c-4879-8994-f553b4bab2b3 button.colab-df-convert');\n",
              "      buttonEl.style.display =\n",
              "        google.colab.kernel.accessAllowed ? 'block' : 'none';\n",
              "\n",
              "      async function convertToInteractive(key) {\n",
              "        const element = document.querySelector('#df-54e8ad62-fe9c-4879-8994-f553b4bab2b3');\n",
              "        const dataTable =\n",
              "          await google.colab.kernel.invokeFunction('convertToInteractive',\n",
              "                                                    [key], {});\n",
              "        if (!dataTable) return;\n",
              "\n",
              "        const docLinkHtml = 'Like what you see? Visit the ' +\n",
              "          '<a target=\"_blank\" href=https://colab.research.google.com/notebooks/data_table.ipynb>data table notebook</a>'\n",
              "          + ' to learn more about interactive tables.';\n",
              "        element.innerHTML = '';\n",
              "        dataTable['output_type'] = 'display_data';\n",
              "        await google.colab.output.renderOutput(dataTable, element);\n",
              "        const docLink = document.createElement('div');\n",
              "        docLink.innerHTML = docLinkHtml;\n",
              "        element.appendChild(docLink);\n",
              "      }\n",
              "    </script>\n",
              "  </div>\n",
              "\n",
              "\n",
              "<div id=\"df-8d8c6fff-e282-4660-bee5-4118667a33bb\">\n",
              "  <button class=\"colab-df-quickchart\" onclick=\"quickchart('df-8d8c6fff-e282-4660-bee5-4118667a33bb')\"\n",
              "            title=\"Suggest charts.\"\n",
              "            style=\"display:none;\">\n",
              "\n",
              "<svg xmlns=\"http://www.w3.org/2000/svg\" height=\"24px\"viewBox=\"0 0 24 24\"\n",
              "     width=\"24px\">\n",
              "    <g>\n",
              "        <path d=\"M19 3H5c-1.1 0-2 .9-2 2v14c0 1.1.9 2 2 2h14c1.1 0 2-.9 2-2V5c0-1.1-.9-2-2-2zM9 17H7v-7h2v7zm4 0h-2V7h2v10zm4 0h-2v-4h2v4z\"/>\n",
              "    </g>\n",
              "</svg>\n",
              "  </button>\n",
              "\n",
              "<style>\n",
              "  .colab-df-quickchart {\n",
              "      --bg-color: #E8F0FE;\n",
              "      --fill-color: #1967D2;\n",
              "      --hover-bg-color: #E2EBFA;\n",
              "      --hover-fill-color: #174EA6;\n",
              "      --disabled-fill-color: #AAA;\n",
              "      --disabled-bg-color: #DDD;\n",
              "  }\n",
              "\n",
              "  [theme=dark] .colab-df-quickchart {\n",
              "      --bg-color: #3B4455;\n",
              "      --fill-color: #D2E3FC;\n",
              "      --hover-bg-color: #434B5C;\n",
              "      --hover-fill-color: #FFFFFF;\n",
              "      --disabled-bg-color: #3B4455;\n",
              "      --disabled-fill-color: #666;\n",
              "  }\n",
              "\n",
              "  .colab-df-quickchart {\n",
              "    background-color: var(--bg-color);\n",
              "    border: none;\n",
              "    border-radius: 50%;\n",
              "    cursor: pointer;\n",
              "    display: none;\n",
              "    fill: var(--fill-color);\n",
              "    height: 32px;\n",
              "    padding: 0;\n",
              "    width: 32px;\n",
              "  }\n",
              "\n",
              "  .colab-df-quickchart:hover {\n",
              "    background-color: var(--hover-bg-color);\n",
              "    box-shadow: 0 1px 2px rgba(60, 64, 67, 0.3), 0 1px 3px 1px rgba(60, 64, 67, 0.15);\n",
              "    fill: var(--button-hover-fill-color);\n",
              "  }\n",
              "\n",
              "  .colab-df-quickchart-complete:disabled,\n",
              "  .colab-df-quickchart-complete:disabled:hover {\n",
              "    background-color: var(--disabled-bg-color);\n",
              "    fill: var(--disabled-fill-color);\n",
              "    box-shadow: none;\n",
              "  }\n",
              "\n",
              "  .colab-df-spinner {\n",
              "    border: 2px solid var(--fill-color);\n",
              "    border-color: transparent;\n",
              "    border-bottom-color: var(--fill-color);\n",
              "    animation:\n",
              "      spin 1s steps(1) infinite;\n",
              "  }\n",
              "\n",
              "  @keyframes spin {\n",
              "    0% {\n",
              "      border-color: transparent;\n",
              "      border-bottom-color: var(--fill-color);\n",
              "      border-left-color: var(--fill-color);\n",
              "    }\n",
              "    20% {\n",
              "      border-color: transparent;\n",
              "      border-left-color: var(--fill-color);\n",
              "      border-top-color: var(--fill-color);\n",
              "    }\n",
              "    30% {\n",
              "      border-color: transparent;\n",
              "      border-left-color: var(--fill-color);\n",
              "      border-top-color: var(--fill-color);\n",
              "      border-right-color: var(--fill-color);\n",
              "    }\n",
              "    40% {\n",
              "      border-color: transparent;\n",
              "      border-right-color: var(--fill-color);\n",
              "      border-top-color: var(--fill-color);\n",
              "    }\n",
              "    60% {\n",
              "      border-color: transparent;\n",
              "      border-right-color: var(--fill-color);\n",
              "    }\n",
              "    80% {\n",
              "      border-color: transparent;\n",
              "      border-right-color: var(--fill-color);\n",
              "      border-bottom-color: var(--fill-color);\n",
              "    }\n",
              "    90% {\n",
              "      border-color: transparent;\n",
              "      border-bottom-color: var(--fill-color);\n",
              "    }\n",
              "  }\n",
              "</style>\n",
              "\n",
              "  <script>\n",
              "    async function quickchart(key) {\n",
              "      const quickchartButtonEl =\n",
              "        document.querySelector('#' + key + ' button');\n",
              "      quickchartButtonEl.disabled = true;  // To prevent multiple clicks.\n",
              "      quickchartButtonEl.classList.add('colab-df-spinner');\n",
              "      try {\n",
              "        const charts = await google.colab.kernel.invokeFunction(\n",
              "            'suggestCharts', [key], {});\n",
              "      } catch (error) {\n",
              "        console.error('Error during call to suggestCharts:', error);\n",
              "      }\n",
              "      quickchartButtonEl.classList.remove('colab-df-spinner');\n",
              "      quickchartButtonEl.classList.add('colab-df-quickchart-complete');\n",
              "    }\n",
              "    (() => {\n",
              "      let quickchartButtonEl =\n",
              "        document.querySelector('#df-8d8c6fff-e282-4660-bee5-4118667a33bb button');\n",
              "      quickchartButtonEl.style.display =\n",
              "        google.colab.kernel.accessAllowed ? 'block' : 'none';\n",
              "    })();\n",
              "  </script>\n",
              "</div>\n",
              "    </div>\n",
              "  </div>\n"
            ]
          },
          "metadata": {},
          "execution_count": 151
        }
      ]
    },
    {
      "cell_type": "code",
      "source": [
        "trainset = dataset_train.iloc[:,1:2].values"
      ],
      "metadata": {
        "id": "pTSX6TvhgPzk"
      },
      "execution_count": 152,
      "outputs": []
    },
    {
      "cell_type": "code",
      "source": [
        "trainset"
      ],
      "metadata": {
        "colab": {
          "base_uri": "https://localhost:8080/"
        },
        "id": "RAsgr6qbg98l",
        "outputId": "f7739195-2e89-471d-c797-2b7739e3c819"
      },
      "execution_count": 153,
      "outputs": [
        {
          "output_type": "execute_result",
          "data": {
            "text/plain": [
              "array([[325.25],\n",
              "       [331.27],\n",
              "       [329.83],\n",
              "       ...,\n",
              "       [793.7 ],\n",
              "       [783.33],\n",
              "       [782.75]])"
            ]
          },
          "metadata": {},
          "execution_count": 153
        }
      ]
    },
    {
      "cell_type": "code",
      "source": [
        "from sklearn.preprocessing import MinMaxScaler\n",
        "sc = MinMaxScaler(feature_range=(0,1))\n",
        "training_scaled = sc.fit_transform(trainset)"
      ],
      "metadata": {
        "id": "XyO7766Yha6x"
      },
      "execution_count": 154,
      "outputs": []
    },
    {
      "cell_type": "code",
      "source": [
        "training_scaled"
      ],
      "metadata": {
        "colab": {
          "base_uri": "https://localhost:8080/"
        },
        "id": "V5140Ylgid_5",
        "outputId": "39b5bc4c-f11a-463a-f16f-94510578990f"
      },
      "execution_count": 155,
      "outputs": [
        {
          "output_type": "execute_result",
          "data": {
            "text/plain": [
              "array([[0.08581368],\n",
              "       [0.09701243],\n",
              "       [0.09433366],\n",
              "       ...,\n",
              "       [0.95725128],\n",
              "       [0.93796041],\n",
              "       [0.93688146]])"
            ]
          },
          "metadata": {},
          "execution_count": 155
        }
      ]
    },
    {
      "cell_type": "code",
      "source": [
        "len(training_scaled)"
      ],
      "metadata": {
        "colab": {
          "base_uri": "https://localhost:8080/"
        },
        "id": "5gKnfgYNkNXa",
        "outputId": "3a4ecfa7-0479-4611-dd08-1526f04a2af6"
      },
      "execution_count": 156,
      "outputs": [
        {
          "output_type": "execute_result",
          "data": {
            "text/plain": [
              "1258"
            ]
          },
          "metadata": {},
          "execution_count": 156
        }
      ]
    },
    {
      "cell_type": "code",
      "source": [
        "x_train = []\n",
        "y_train = []"
      ],
      "metadata": {
        "id": "LyXDcfMIij_l"
      },
      "execution_count": 157,
      "outputs": []
    },
    {
      "cell_type": "code",
      "source": [
        "for i in range(60, 1258):\n",
        "  x_train.append(training_scaled[i-60:i, 0])\n",
        "  y_train.append(training_scaled[i,0])\n",
        "x_train, y_train = np.array(x_train), np.array(y_train)"
      ],
      "metadata": {
        "id": "UONHX77MlbvY"
      },
      "execution_count": 158,
      "outputs": []
    },
    {
      "cell_type": "code",
      "source": [
        "x_train.shape"
      ],
      "metadata": {
        "colab": {
          "base_uri": "https://localhost:8080/"
        },
        "id": "2mOQskR60KtR",
        "outputId": "832b18a8-11b9-42a4-dab4-d7f237715a42"
      },
      "execution_count": 159,
      "outputs": [
        {
          "output_type": "execute_result",
          "data": {
            "text/plain": [
              "(1198, 60)"
            ]
          },
          "metadata": {},
          "execution_count": 159
        }
      ]
    },
    {
      "cell_type": "code",
      "source": [
        "y_train.shape"
      ],
      "metadata": {
        "colab": {
          "base_uri": "https://localhost:8080/"
        },
        "id": "LLE2Z7oT0oiG",
        "outputId": "bb3ad058-e441-4bb9-e2ba-bae4a3bdc7f4"
      },
      "execution_count": 160,
      "outputs": [
        {
          "output_type": "execute_result",
          "data": {
            "text/plain": [
              "(1198,)"
            ]
          },
          "metadata": {},
          "execution_count": 160
        }
      ]
    },
    {
      "cell_type": "code",
      "source": [
        "x_train = np.reshape(x_train, (x_train.shape[0], x_train.shape[1], 1))"
      ],
      "metadata": {
        "id": "RFv_tk_C2m91"
      },
      "execution_count": 161,
      "outputs": []
    },
    {
      "cell_type": "code",
      "source": [
        "x_train.shape"
      ],
      "metadata": {
        "colab": {
          "base_uri": "https://localhost:8080/"
        },
        "id": "faM4yVjz-9Uf",
        "outputId": "14091f17-dd33-4e7f-808c-e0368b15a877"
      },
      "execution_count": 162,
      "outputs": [
        {
          "output_type": "execute_result",
          "data": {
            "text/plain": [
              "(1198, 60, 1)"
            ]
          },
          "metadata": {},
          "execution_count": 162
        }
      ]
    },
    {
      "cell_type": "code",
      "source": [
        "from keras.models import Sequential\n",
        "from keras.layers import Dense\n",
        "from keras.layers import LSTM\n",
        "from keras.layers import Dropout\n"
      ],
      "metadata": {
        "id": "LaLOyEm34B9D"
      },
      "execution_count": 189,
      "outputs": []
    },
    {
      "cell_type": "code",
      "source": [
        " regressor = Sequential()\n",
        " regressor.add(LSTM(units = 50 , return_sequences=True, input_shape = (x_train.shape[1],1)))"
      ],
      "metadata": {
        "id": "isnAXZu27D6L"
      },
      "execution_count": 190,
      "outputs": []
    },
    {
      "cell_type": "code",
      "source": [
        "regressor.add(Dropout(0.2))"
      ],
      "metadata": {
        "id": "jinRiN0C8Yeg"
      },
      "execution_count": 191,
      "outputs": []
    },
    {
      "cell_type": "code",
      "source": [
        "regressor.add(LSTM(units = 50 , return_sequences=True))\n",
        "regressor.add(Dropout(0.2))"
      ],
      "metadata": {
        "id": "SKwVN0KD8k5h"
      },
      "execution_count": 192,
      "outputs": []
    },
    {
      "cell_type": "code",
      "source": [
        "regressor.add(LSTM(units = 50 , return_sequences=True))\n",
        "regressor.add(Dropout(0.2))"
      ],
      "metadata": {
        "id": "PSQcSokO8pVn"
      },
      "execution_count": 194,
      "outputs": []
    },
    {
      "cell_type": "code",
      "source": [
        "regressor.add(LSTM(units = 50 ))\n",
        "regressor.add(Dropout(0.2))"
      ],
      "metadata": {
        "id": "7wb_5koI-ivc"
      },
      "execution_count": 195,
      "outputs": []
    },
    {
      "cell_type": "code",
      "source": [
        "regressor.add(Dense(units=1))"
      ],
      "metadata": {
        "id": "DhGOmH5m-oIK"
      },
      "execution_count": 196,
      "outputs": []
    },
    {
      "cell_type": "code",
      "source": [
        "regressor.compile(optimizer='adam', loss = 'mean_squared_error', metrics=['accuracy'] )"
      ],
      "metadata": {
        "id": "n1F70KD1-oPy"
      },
      "execution_count": 197,
      "outputs": []
    },
    {
      "cell_type": "code",
      "source": [
        "regressor.fit(x_train, y_train, epochs=100, batch_size= 32)"
      ],
      "metadata": {
        "colab": {
          "base_uri": "https://localhost:8080/"
        },
        "id": "4vtFwXJ_AIbD",
        "outputId": "94d7bff3-130d-4e38-ba19-cc210ea93ada"
      },
      "execution_count": 198,
      "outputs": [
        {
          "output_type": "stream",
          "name": "stdout",
          "text": [
            "Epoch 1/100\n",
            "38/38 [==============================] - 18s 168ms/step - loss: 0.0518 - accuracy: 0.0017\n",
            "Epoch 2/100\n",
            "38/38 [==============================] - 8s 202ms/step - loss: 0.0069 - accuracy: 0.0017\n",
            "Epoch 3/100\n",
            "38/38 [==============================] - 6s 168ms/step - loss: 0.0067 - accuracy: 0.0017\n",
            "Epoch 4/100\n",
            "38/38 [==============================] - 8s 200ms/step - loss: 0.0062 - accuracy: 0.0017\n",
            "Epoch 5/100\n",
            "38/38 [==============================] - 6s 167ms/step - loss: 0.0054 - accuracy: 0.0017\n",
            "Epoch 6/100\n",
            "38/38 [==============================] - 8s 202ms/step - loss: 0.0049 - accuracy: 0.0017\n",
            "Epoch 7/100\n",
            "38/38 [==============================] - 7s 180ms/step - loss: 0.0052 - accuracy: 0.0017\n",
            "Epoch 8/100\n",
            "38/38 [==============================] - 7s 184ms/step - loss: 0.0052 - accuracy: 0.0017\n",
            "Epoch 9/100\n",
            "38/38 [==============================] - 8s 199ms/step - loss: 0.0046 - accuracy: 0.0017\n",
            "Epoch 10/100\n",
            "38/38 [==============================] - 7s 171ms/step - loss: 0.0048 - accuracy: 0.0017\n",
            "Epoch 11/100\n",
            "38/38 [==============================] - 8s 204ms/step - loss: 0.0050 - accuracy: 0.0017\n",
            "Epoch 12/100\n",
            "38/38 [==============================] - 6s 169ms/step - loss: 0.0048 - accuracy: 0.0017\n",
            "Epoch 13/100\n",
            "38/38 [==============================] - 8s 202ms/step - loss: 0.0043 - accuracy: 0.0017\n",
            "Epoch 14/100\n",
            "38/38 [==============================] - 6s 167ms/step - loss: 0.0053 - accuracy: 0.0017\n",
            "Epoch 15/100\n",
            "38/38 [==============================] - 8s 203ms/step - loss: 0.0044 - accuracy: 0.0017\n",
            "Epoch 16/100\n",
            "38/38 [==============================] - 6s 170ms/step - loss: 0.0041 - accuracy: 0.0017\n",
            "Epoch 17/100\n",
            "38/38 [==============================] - 8s 198ms/step - loss: 0.0040 - accuracy: 0.0017\n",
            "Epoch 18/100\n",
            "38/38 [==============================] - 7s 188ms/step - loss: 0.0042 - accuracy: 0.0017\n",
            "Epoch 19/100\n",
            "38/38 [==============================] - 7s 176ms/step - loss: 0.0036 - accuracy: 0.0017\n",
            "Epoch 20/100\n",
            "38/38 [==============================] - 8s 202ms/step - loss: 0.0042 - accuracy: 0.0017\n",
            "Epoch 21/100\n",
            "38/38 [==============================] - 6s 169ms/step - loss: 0.0040 - accuracy: 0.0017\n",
            "Epoch 22/100\n",
            "38/38 [==============================] - 8s 201ms/step - loss: 0.0038 - accuracy: 0.0017\n",
            "Epoch 23/100\n",
            "38/38 [==============================] - 6s 168ms/step - loss: 0.0039 - accuracy: 0.0017\n",
            "Epoch 24/100\n",
            "38/38 [==============================] - 8s 202ms/step - loss: 0.0038 - accuracy: 0.0017\n",
            "Epoch 25/100\n",
            "38/38 [==============================] - 6s 168ms/step - loss: 0.0031 - accuracy: 0.0017\n",
            "Epoch 26/100\n",
            "38/38 [==============================] - 8s 200ms/step - loss: 0.0037 - accuracy: 0.0017\n",
            "Epoch 27/100\n",
            "38/38 [==============================] - 6s 169ms/step - loss: 0.0032 - accuracy: 0.0017\n",
            "Epoch 28/100\n",
            "38/38 [==============================] - 8s 195ms/step - loss: 0.0033 - accuracy: 0.0017\n",
            "Epoch 29/100\n",
            "38/38 [==============================] - 7s 192ms/step - loss: 0.0034 - accuracy: 0.0017\n",
            "Epoch 30/100\n",
            "38/38 [==============================] - 7s 175ms/step - loss: 0.0033 - accuracy: 0.0017\n",
            "Epoch 31/100\n",
            "38/38 [==============================] - 8s 201ms/step - loss: 0.0035 - accuracy: 0.0017\n",
            "Epoch 32/100\n",
            "38/38 [==============================] - 6s 169ms/step - loss: 0.0034 - accuracy: 0.0017\n",
            "Epoch 33/100\n",
            "38/38 [==============================] - 8s 202ms/step - loss: 0.0036 - accuracy: 0.0017\n",
            "Epoch 34/100\n",
            "38/38 [==============================] - 6s 168ms/step - loss: 0.0031 - accuracy: 0.0017\n",
            "Epoch 35/100\n",
            "38/38 [==============================] - 8s 204ms/step - loss: 0.0030 - accuracy: 0.0017\n",
            "Epoch 36/100\n",
            "38/38 [==============================] - 6s 168ms/step - loss: 0.0030 - accuracy: 0.0017\n",
            "Epoch 37/100\n",
            "38/38 [==============================] - 8s 201ms/step - loss: 0.0026 - accuracy: 0.0017\n",
            "Epoch 38/100\n",
            "38/38 [==============================] - 7s 174ms/step - loss: 0.0030 - accuracy: 0.0017\n",
            "Epoch 39/100\n",
            "38/38 [==============================] - 7s 190ms/step - loss: 0.0029 - accuracy: 0.0017\n",
            "Epoch 40/100\n",
            "38/38 [==============================] - 7s 197ms/step - loss: 0.0029 - accuracy: 0.0017\n",
            "Epoch 41/100\n",
            "38/38 [==============================] - 6s 167ms/step - loss: 0.0027 - accuracy: 0.0017\n",
            "Epoch 42/100\n",
            "38/38 [==============================] - 8s 201ms/step - loss: 0.0028 - accuracy: 0.0017\n",
            "Epoch 43/100\n",
            "38/38 [==============================] - 6s 167ms/step - loss: 0.0027 - accuracy: 0.0017\n",
            "Epoch 44/100\n",
            "38/38 [==============================] - 8s 200ms/step - loss: 0.0025 - accuracy: 0.0017\n",
            "Epoch 45/100\n",
            "38/38 [==============================] - 6s 168ms/step - loss: 0.0028 - accuracy: 0.0017\n",
            "Epoch 46/100\n",
            "38/38 [==============================] - 8s 202ms/step - loss: 0.0028 - accuracy: 0.0017\n",
            "Epoch 47/100\n",
            "38/38 [==============================] - 6s 168ms/step - loss: 0.0028 - accuracy: 0.0017\n",
            "Epoch 48/100\n",
            "38/38 [==============================] - 8s 202ms/step - loss: 0.0027 - accuracy: 0.0017\n",
            "Epoch 49/100\n",
            "38/38 [==============================] - 7s 178ms/step - loss: 0.0025 - accuracy: 0.0017\n",
            "Epoch 50/100\n",
            "38/38 [==============================] - 7s 189ms/step - loss: 0.0026 - accuracy: 0.0017\n",
            "Epoch 51/100\n",
            "38/38 [==============================] - 8s 201ms/step - loss: 0.0027 - accuracy: 0.0017\n",
            "Epoch 52/100\n",
            "38/38 [==============================] - 6s 168ms/step - loss: 0.0025 - accuracy: 0.0017\n",
            "Epoch 53/100\n",
            "38/38 [==============================] - 8s 203ms/step - loss: 0.0024 - accuracy: 0.0017\n",
            "Epoch 54/100\n",
            "38/38 [==============================] - 7s 171ms/step - loss: 0.0026 - accuracy: 0.0017\n",
            "Epoch 55/100\n",
            "38/38 [==============================] - 8s 206ms/step - loss: 0.0025 - accuracy: 0.0017\n",
            "Epoch 56/100\n",
            "38/38 [==============================] - 6s 169ms/step - loss: 0.0023 - accuracy: 0.0017\n",
            "Epoch 57/100\n",
            "38/38 [==============================] - 8s 203ms/step - loss: 0.0024 - accuracy: 0.0017\n",
            "Epoch 58/100\n",
            "38/38 [==============================] - 6s 169ms/step - loss: 0.0023 - accuracy: 0.0017\n",
            "Epoch 59/100\n",
            "38/38 [==============================] - 8s 206ms/step - loss: 0.0026 - accuracy: 0.0017\n",
            "Epoch 60/100\n",
            "38/38 [==============================] - 8s 208ms/step - loss: 0.0024 - accuracy: 0.0017\n",
            "Epoch 61/100\n",
            "38/38 [==============================] - 10s 257ms/step - loss: 0.0028 - accuracy: 0.0017\n",
            "Epoch 62/100\n",
            "38/38 [==============================] - 8s 204ms/step - loss: 0.0023 - accuracy: 0.0017\n",
            "Epoch 63/100\n",
            "38/38 [==============================] - 7s 179ms/step - loss: 0.0024 - accuracy: 0.0017\n",
            "Epoch 64/100\n",
            "38/38 [==============================] - 7s 187ms/step - loss: 0.0021 - accuracy: 0.0017\n",
            "Epoch 65/100\n",
            "38/38 [==============================] - 8s 203ms/step - loss: 0.0022 - accuracy: 0.0017\n",
            "Epoch 66/100\n",
            "38/38 [==============================] - 6s 167ms/step - loss: 0.0023 - accuracy: 0.0017\n",
            "Epoch 67/100\n",
            "38/38 [==============================] - 8s 219ms/step - loss: 0.0021 - accuracy: 0.0017\n",
            "Epoch 68/100\n",
            "38/38 [==============================] - 6s 169ms/step - loss: 0.0023 - accuracy: 0.0017\n",
            "Epoch 69/100\n",
            "38/38 [==============================] - 8s 203ms/step - loss: 0.0020 - accuracy: 0.0017\n",
            "Epoch 70/100\n",
            "38/38 [==============================] - 6s 170ms/step - loss: 0.0021 - accuracy: 0.0017\n",
            "Epoch 71/100\n",
            "38/38 [==============================] - 8s 206ms/step - loss: 0.0018 - accuracy: 0.0017\n",
            "Epoch 72/100\n",
            "38/38 [==============================] - 9s 240ms/step - loss: 0.0020 - accuracy: 0.0017\n",
            "Epoch 73/100\n",
            "38/38 [==============================] - 6s 171ms/step - loss: 0.0021 - accuracy: 0.0017\n",
            "Epoch 74/100\n",
            "38/38 [==============================] - 8s 204ms/step - loss: 0.0018 - accuracy: 0.0017\n",
            "Epoch 75/100\n",
            "38/38 [==============================] - 7s 177ms/step - loss: 0.0018 - accuracy: 0.0017\n",
            "Epoch 76/100\n",
            "38/38 [==============================] - 8s 213ms/step - loss: 0.0019 - accuracy: 0.0017\n",
            "Epoch 77/100\n",
            "38/38 [==============================] - 8s 199ms/step - loss: 0.0022 - accuracy: 0.0017\n",
            "Epoch 78/100\n",
            "38/38 [==============================] - 7s 191ms/step - loss: 0.0017 - accuracy: 0.0017\n",
            "Epoch 79/100\n",
            "38/38 [==============================] - 8s 202ms/step - loss: 0.0018 - accuracy: 0.0017\n",
            "Epoch 80/100\n",
            "38/38 [==============================] - 7s 177ms/step - loss: 0.0020 - accuracy: 0.0017\n",
            "Epoch 81/100\n",
            "38/38 [==============================] - 8s 211ms/step - loss: 0.0020 - accuracy: 0.0017\n",
            "Epoch 82/100\n",
            "38/38 [==============================] - 6s 168ms/step - loss: 0.0021 - accuracy: 0.0017\n",
            "Epoch 83/100\n",
            "38/38 [==============================] - 8s 202ms/step - loss: 0.0017 - accuracy: 0.0017\n",
            "Epoch 84/100\n",
            "38/38 [==============================] - 6s 168ms/step - loss: 0.0019 - accuracy: 0.0017\n",
            "Epoch 85/100\n",
            "38/38 [==============================] - 8s 202ms/step - loss: 0.0022 - accuracy: 0.0017\n",
            "Epoch 86/100\n",
            "38/38 [==============================] - 8s 217ms/step - loss: 0.0021 - accuracy: 0.0017\n",
            "Epoch 87/100\n",
            "38/38 [==============================] - 7s 173ms/step - loss: 0.0017 - accuracy: 0.0017\n",
            "Epoch 88/100\n",
            "38/38 [==============================] - 8s 222ms/step - loss: 0.0017 - accuracy: 0.0017\n",
            "Epoch 89/100\n",
            "38/38 [==============================] - 7s 182ms/step - loss: 0.0017 - accuracy: 0.0017\n",
            "Epoch 90/100\n",
            "38/38 [==============================] - 8s 204ms/step - loss: 0.0018 - accuracy: 0.0017\n",
            "Epoch 91/100\n",
            "38/38 [==============================] - 6s 171ms/step - loss: 0.0016 - accuracy: 0.0017\n",
            "Epoch 92/100\n",
            "38/38 [==============================] - 8s 215ms/step - loss: 0.0019 - accuracy: 0.0017\n",
            "Epoch 93/100\n",
            "38/38 [==============================] - 7s 189ms/step - loss: 0.0017 - accuracy: 0.0017\n",
            "Epoch 94/100\n",
            "38/38 [==============================] - 7s 178ms/step - loss: 0.0016 - accuracy: 0.0017\n",
            "Epoch 95/100\n",
            "38/38 [==============================] - 8s 204ms/step - loss: 0.0017 - accuracy: 0.0017\n",
            "Epoch 96/100\n",
            "38/38 [==============================] - 6s 170ms/step - loss: 0.0016 - accuracy: 0.0017\n",
            "Epoch 97/100\n",
            "38/38 [==============================] - 8s 203ms/step - loss: 0.0017 - accuracy: 0.0017\n",
            "Epoch 98/100\n",
            "38/38 [==============================] - 6s 168ms/step - loss: 0.0016 - accuracy: 0.0017\n",
            "Epoch 99/100\n",
            "38/38 [==============================] - 8s 203ms/step - loss: 0.0016 - accuracy: 0.0017\n",
            "Epoch 100/100\n",
            "38/38 [==============================] - 6s 170ms/step - loss: 0.0015 - accuracy: 0.0017\n"
          ]
        },
        {
          "output_type": "execute_result",
          "data": {
            "text/plain": [
              "<keras.callbacks.History at 0x7dd0155a6620>"
            ]
          },
          "metadata": {},
          "execution_count": 198
        }
      ]
    },
    {
      "cell_type": "code",
      "source": [
        "dataset_test = pd.read_csv(\"/content/Google_Stock_Price_Test.csv\")"
      ],
      "metadata": {
        "id": "deH2haYhE-IK"
      },
      "execution_count": 199,
      "outputs": []
    },
    {
      "cell_type": "code",
      "source": [
        "real_stock_price = dataset_test.iloc[:,1:2].values"
      ],
      "metadata": {
        "id": "blafTVb0Fl9y"
      },
      "execution_count": 202,
      "outputs": []
    },
    {
      "cell_type": "code",
      "source": [
        "dataset_total = pd.concat((dataset_train['Open'], dataset_test['Open']), axis=0)\n",
        "dataset_total"
      ],
      "metadata": {
        "colab": {
          "base_uri": "https://localhost:8080/"
        },
        "id": "dzODzbwsFmEa",
        "outputId": "c6619478-1732-4269-a044-0b006b19e30a"
      },
      "execution_count": 203,
      "outputs": [
        {
          "output_type": "execute_result",
          "data": {
            "text/plain": [
              "0     325.25\n",
              "1     331.27\n",
              "2     329.83\n",
              "3     328.34\n",
              "4     322.04\n",
              "       ...  \n",
              "15    829.62\n",
              "16    837.81\n",
              "17    834.71\n",
              "18    814.66\n",
              "19    796.86\n",
              "Name: Open, Length: 1278, dtype: float64"
            ]
          },
          "metadata": {},
          "execution_count": 203
        }
      ]
    },
    {
      "cell_type": "code",
      "source": [
        "inputs = dataset_total[len(dataset_total) - len(dataset_test) - 60:].values\n",
        "inputs"
      ],
      "metadata": {
        "colab": {
          "base_uri": "https://localhost:8080/"
        },
        "id": "NRoGCCjDGytW",
        "outputId": "5f72edbe-05cc-483b-b07c-64f0170f7bb2"
      },
      "execution_count": 204,
      "outputs": [
        {
          "output_type": "execute_result",
          "data": {
            "text/plain": [
              "array([779.  , 779.66, 777.71, 786.66, 783.76, 781.22, 781.65, 779.8 ,\n",
              "       787.85, 798.24, 803.3 , 795.  , 804.9 , 816.68, 806.34, 801.  ,\n",
              "       808.35, 795.47, 782.89, 778.2 , 767.25, 750.66, 774.5 , 783.4 ,\n",
              "       779.94, 791.17, 756.54, 755.6 , 746.97, 755.2 , 766.92, 771.37,\n",
              "       762.61, 772.63, 767.73, 764.26, 760.  , 771.53, 770.07, 757.44,\n",
              "       744.59, 757.71, 764.73, 761.  , 772.48, 780.  , 785.04, 793.9 ,\n",
              "       797.4 , 797.34, 800.4 , 790.22, 796.76, 795.84, 792.36, 790.9 ,\n",
              "       790.68, 793.7 , 783.33, 782.75, 778.81, 788.36, 786.08, 795.26,\n",
              "       806.4 , 807.86, 805.  , 807.14, 807.48, 807.08, 805.81, 805.12,\n",
              "       806.91, 807.25, 822.3 , 829.62, 837.81, 834.71, 814.66, 796.86])"
            ]
          },
          "metadata": {},
          "execution_count": 204
        }
      ]
    },
    {
      "cell_type": "code",
      "source": [
        "inputs = inputs.reshape(-1,1)\n",
        "inputs"
      ],
      "metadata": {
        "colab": {
          "base_uri": "https://localhost:8080/"
        },
        "id": "zJvGCGt8Gy1P",
        "outputId": "f28a5e96-e51e-439c-bb20-ae7ae2ab5b56"
      },
      "execution_count": 205,
      "outputs": [
        {
          "output_type": "execute_result",
          "data": {
            "text/plain": [
              "array([[779.  ],\n",
              "       [779.66],\n",
              "       [777.71],\n",
              "       [786.66],\n",
              "       [783.76],\n",
              "       [781.22],\n",
              "       [781.65],\n",
              "       [779.8 ],\n",
              "       [787.85],\n",
              "       [798.24],\n",
              "       [803.3 ],\n",
              "       [795.  ],\n",
              "       [804.9 ],\n",
              "       [816.68],\n",
              "       [806.34],\n",
              "       [801.  ],\n",
              "       [808.35],\n",
              "       [795.47],\n",
              "       [782.89],\n",
              "       [778.2 ],\n",
              "       [767.25],\n",
              "       [750.66],\n",
              "       [774.5 ],\n",
              "       [783.4 ],\n",
              "       [779.94],\n",
              "       [791.17],\n",
              "       [756.54],\n",
              "       [755.6 ],\n",
              "       [746.97],\n",
              "       [755.2 ],\n",
              "       [766.92],\n",
              "       [771.37],\n",
              "       [762.61],\n",
              "       [772.63],\n",
              "       [767.73],\n",
              "       [764.26],\n",
              "       [760.  ],\n",
              "       [771.53],\n",
              "       [770.07],\n",
              "       [757.44],\n",
              "       [744.59],\n",
              "       [757.71],\n",
              "       [764.73],\n",
              "       [761.  ],\n",
              "       [772.48],\n",
              "       [780.  ],\n",
              "       [785.04],\n",
              "       [793.9 ],\n",
              "       [797.4 ],\n",
              "       [797.34],\n",
              "       [800.4 ],\n",
              "       [790.22],\n",
              "       [796.76],\n",
              "       [795.84],\n",
              "       [792.36],\n",
              "       [790.9 ],\n",
              "       [790.68],\n",
              "       [793.7 ],\n",
              "       [783.33],\n",
              "       [782.75],\n",
              "       [778.81],\n",
              "       [788.36],\n",
              "       [786.08],\n",
              "       [795.26],\n",
              "       [806.4 ],\n",
              "       [807.86],\n",
              "       [805.  ],\n",
              "       [807.14],\n",
              "       [807.48],\n",
              "       [807.08],\n",
              "       [805.81],\n",
              "       [805.12],\n",
              "       [806.91],\n",
              "       [807.25],\n",
              "       [822.3 ],\n",
              "       [829.62],\n",
              "       [837.81],\n",
              "       [834.71],\n",
              "       [814.66],\n",
              "       [796.86]])"
            ]
          },
          "metadata": {},
          "execution_count": 205
        }
      ]
    },
    {
      "cell_type": "code",
      "source": [
        "inputs = sc.transform(inputs)\n",
        "inputs.shape"
      ],
      "metadata": {
        "colab": {
          "base_uri": "https://localhost:8080/"
        },
        "id": "T2XRk0EiIWzH",
        "outputId": "a0589990-81cf-4c27-a210-29af2daef232"
      },
      "execution_count": 206,
      "outputs": [
        {
          "output_type": "execute_result",
          "data": {
            "text/plain": [
              "(80, 1)"
            ]
          },
          "metadata": {},
          "execution_count": 206
        }
      ]
    },
    {
      "cell_type": "code",
      "source": [
        "x_test = []\n",
        "for i in range(60, 80):\n",
        "  x_test.append(inputs[i-60:i,0])"
      ],
      "metadata": {
        "id": "8ENFTbDEIXOX"
      },
      "execution_count": 207,
      "outputs": []
    },
    {
      "cell_type": "code",
      "source": [
        "x_test = np.array(x_test)\n",
        "x_test.shape"
      ],
      "metadata": {
        "colab": {
          "base_uri": "https://localhost:8080/"
        },
        "id": "VhiESPPhIXRI",
        "outputId": "b7e39279-4379-4242-dbb7-661b62144d11"
      },
      "execution_count": 208,
      "outputs": [
        {
          "output_type": "execute_result",
          "data": {
            "text/plain": [
              "(20, 60)"
            ]
          },
          "metadata": {},
          "execution_count": 208
        }
      ]
    },
    {
      "cell_type": "code",
      "source": [
        "x_test = np.reshape(x_test, (x_test.shape[0],x_test.shape[1],1))\n",
        "x_test.shape"
      ],
      "metadata": {
        "colab": {
          "base_uri": "https://localhost:8080/"
        },
        "id": "Pcf8e6mRKVfA",
        "outputId": "11a58dd4-8486-4a2f-d6b8-4e0e164344f0"
      },
      "execution_count": 209,
      "outputs": [
        {
          "output_type": "execute_result",
          "data": {
            "text/plain": [
              "(20, 60, 1)"
            ]
          },
          "metadata": {},
          "execution_count": 209
        }
      ]
    },
    {
      "cell_type": "code",
      "source": [
        "predicted_price = regressor.predict(x_test)"
      ],
      "metadata": {
        "colab": {
          "base_uri": "https://localhost:8080/"
        },
        "id": "9x-YCZgoMXXA",
        "outputId": "96e5c8b1-dbec-406e-efda-dc1f30051027"
      },
      "execution_count": 212,
      "outputs": [
        {
          "output_type": "stream",
          "name": "stdout",
          "text": [
            "1/1 [==============================] - 0s 297ms/step\n"
          ]
        }
      ]
    },
    {
      "cell_type": "code",
      "source": [
        "predicted_price = sc.inverse_transform(predicted_price)\n",
        "predicted_price"
      ],
      "metadata": {
        "colab": {
          "base_uri": "https://localhost:8080/"
        },
        "id": "kdSZ9N0kMXvE",
        "outputId": "6a94df21-f002-4085-b08d-81875e8b9508"
      },
      "execution_count": 213,
      "outputs": [
        {
          "output_type": "execute_result",
          "data": {
            "text/plain": [
              "array([[800.8111 ],\n",
              "       [798.3835 ],\n",
              "       [798.24567],\n",
              "       [799.00366],\n",
              "       [801.19977],\n",
              "       [805.4509 ],\n",
              "       [809.40546],\n",
              "       [810.9008 ],\n",
              "       [811.12036],\n",
              "       [811.1202 ],\n",
              "       [811.23785],\n",
              "       [811.3132 ],\n",
              "       [811.35474],\n",
              "       [811.8797 ],\n",
              "       [812.7084 ],\n",
              "       [816.49194],\n",
              "       [822.1946 ],\n",
              "       [828.28925],\n",
              "       [831.6819 ],\n",
              "       [828.71625]], dtype=float32)"
            ]
          },
          "metadata": {},
          "execution_count": 213
        }
      ]
    },
    {
      "cell_type": "code",
      "source": [
        "plt.plot(real_stock_price, color = 'red', label = 'Real Price')\n",
        "plt.plot(predicted_price,color = 'blue', label = 'Perdicted Price')\n",
        "plt.title(\"Google Stock Price Prediction\")\n",
        "plt.xlabel('Time')\n",
        "plt.ylabel('Google Stock Price')\n",
        "plt.legend()\n",
        "plt.show()"
      ],
      "metadata": {
        "colab": {
          "base_uri": "https://localhost:8080/",
          "height": 472
        },
        "id": "R45XXeWuRPF4",
        "outputId": "7fe3920b-675b-4b8e-b9da-03989e944233"
      },
      "execution_count": 214,
      "outputs": [
        {
          "output_type": "display_data",
          "data": {
            "text/plain": [
              "<Figure size 640x480 with 1 Axes>"
            ],
            "image/png": "[encoded data removed]"
          },
          "metadata": {}
        }
      ]
    },
    {
      "cell_type": "code",
      "source": [],
      "metadata": {
        "id": "vOkMlDG0RPax"
      },
      "execution_count": null,
      "outputs": []
    },
    {
      "cell_type": "code",
      "source": [],
      "metadata": {
        "id": "keixqt-iRPlN"
      },
      "execution_count": null,
      "outputs": []
    }
  ]
}